{
 "cells": [
  {
   "cell_type": "code",
   "execution_count": 1,
   "id": "29c3ad06",
   "metadata": {},
   "outputs": [
    {
     "name": "stdout",
     "output_type": "stream",
     "text": [
      "Twinkle, twinkle, little star,\n",
      "\tHow I wonder what you are!\n",
      "\t\tUp above the world so high,\n",
      "\t\tLike a diamond in the sky.\n",
      "Twinkle, twinkle, little star,\n",
      "\tHow I wonder what you are\n",
      "\n",
      "\n",
      "\n",
      "Twinkle, twinkle, little star,\n",
      "\tHow I wonder what you are!\n",
      "\t\tUp above the world so high,\n",
      "\t\tLike a diamond in the sky.\n",
      "Twinkle, twinkle, little star,\n",
      "\tHow I wonder what you are\n"
     ]
    }
   ],
   "source": [
    "#Q1: Write a Python program to print the following string in a specific format (see the output)\n",
    "\n",
    "#THERE ARE MULTIPLE WAYS TO WRITE A SINGLE CODE SO I WRITE TWO CODES\n",
    "#1\n",
    "print(\"Twinkle, twinkle, little star,\");\n",
    "print(\"\\tHow I wonder what you are!\");\n",
    "print(\"\\t\\tUp above the world so high,\");\n",
    "print(\"\\t\\tLike a diamond in the sky.\");\n",
    "print(\"Twinkle, twinkle, little star,\")\n",
    "print(\"\\tHow I wonder what you are\")\n",
    "print(\"\\n\\n\")\n",
    "\n",
    "#2\n",
    "print(\"Twinkle, twinkle, little star,\\n\" \"\\tHow I wonder what you are!\\n\" \"\\t\\tUp above the world so high,\\n\" \"\\t\\tLike a diamond in the sky.\\n\" \"Twinkle, twinkle, little star,\\n\" \"\\tHow I wonder what you are\")"
   ]
  },
  {
   "cell_type": "code",
   "execution_count": 3,
   "id": "6df881d9",
   "metadata": {},
   "outputs": [
    {
     "name": "stdout",
     "output_type": "stream",
     "text": [
      "3.8.8 (default, Apr 13 2021, 15:08:03) [MSC v.1916 64 bit (AMD64)]\n"
     ]
    }
   ],
   "source": [
    "#Q2: Write a Python program to get the Python version you are using\n",
    "import sys\n",
    "print(sys.version)"
   ]
  },
  {
   "cell_type": "code",
   "execution_count": 4,
   "id": "65093b73",
   "metadata": {},
   "outputs": [
    {
     "name": "stdout",
     "output_type": "stream",
     "text": [
      "2021-12-31 12:55:05.927095\n"
     ]
    }
   ],
   "source": [
    "#Q3: Write a Python program to display the current date and time.\n",
    "import datetime\n",
    "Current = datetime.datetime.now()\n",
    "print(Current)"
   ]
  },
  {
   "cell_type": "code",
   "execution_count": 7,
   "id": "7acc758e",
   "metadata": {},
   "outputs": [
    {
     "name": "stdout",
     "output_type": "stream",
     "text": [
      "Radius of circle\n",
      "5\n",
      "Area of a circle is\n",
      " 78.53975\n"
     ]
    }
   ],
   "source": [
    "#Q4: Write a Python program which accepts the radius of a circle from the user and compute the area.\n",
    "pi=3.14159\n",
    "r=int(input(\"Radius of circle\\n\"))\n",
    "print((\"Area of a circle is\\n\"), pi*r**2)"
   ]
  },
  {
   "cell_type": "code",
   "execution_count": 5,
   "id": "191ffbf2",
   "metadata": {},
   "outputs": [
    {
     "name": "stdout",
     "output_type": "stream",
     "text": [
      "First Name: Aman\n",
      "Last Name: Shaikh\n",
      "Shaikh Aman\n"
     ]
    }
   ],
   "source": [
    "#Q5: Write a Python program which accepts the user's first and last name and print them in reverse order with a space between them.\n",
    "FName= input(\"First Name: \")\n",
    "LName= input (\"Last Name: \")\n",
    "print(LName, FName)"
   ]
  },
  {
   "cell_type": "code",
   "execution_count": 6,
   "id": "76c1f2f6",
   "metadata": {},
   "outputs": [
    {
     "name": "stdout",
     "output_type": "stream",
     "text": [
      "Enter Your First Number\n",
      "5\n",
      "Enter Your Second Number\n",
      "3\n",
      "Addition of x and y is:\n",
      " 8\n"
     ]
    }
   ],
   "source": [
    "#Q6: Write a python program which takes two inputs from user and print them addition\n",
    "x= int(input(\"Enter Your First Number\\n\"))\n",
    "y= int(input(\"Enter Your Second Number\\n\"))\n",
    "print(\"Addition of x and y is:\\n\",x+y)"
   ]
  },
  {
   "cell_type": "code",
   "execution_count": null,
   "id": "22f0dd9c",
   "metadata": {},
   "outputs": [],
   "source": []
  }
 ],
 "metadata": {
  "kernelspec": {
   "display_name": "Python 3",
   "language": "python",
   "name": "python3"
  },
  "language_info": {
   "codemirror_mode": {
    "name": "ipython",
    "version": 3
   },
   "file_extension": ".py",
   "mimetype": "text/x-python",
   "name": "python",
   "nbconvert_exporter": "python",
   "pygments_lexer": "ipython3",
   "version": "3.8.8"
  }
 },
 "nbformat": 4,
 "nbformat_minor": 5
}
